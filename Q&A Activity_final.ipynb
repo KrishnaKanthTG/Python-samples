{
 "cells": [
  {
   "cell_type": "markdown",
   "metadata": {
    "id": "4z_Z-K1tlrS7"
   },
   "source": [
    "## 1. Complete the following code to find the area of an equilateral triangle. Output should be as displayed"
   ]
  },
  {
   "cell_type": "code",
   "execution_count": 1,
   "metadata": {
    "id": "rP2qFD_SlrS_"
   },
   "outputs": [
    {
     "name": "stdout",
     "output_type": "stream",
     "text": [
      "Kindly enter the length of any side of an Equilateral Triangle: 5\n",
      "\n",
      " Area of Equilateral Triangle = 10.825317547305483 sq.units\n"
     ]
    }
   ],
   "source": [
    "import math\n",
    "side = float(input('Kindly enter the length of any side of an Equilateral Triangle: '))\n",
    "Area = (math.sqrt(3)*1/4)*(side * side)\n",
    "print(\"\\n Area of Equilateral Triangle =\", Area, \"sq.units\")"
   ]
  },
  {
   "cell_type": "markdown",
   "metadata": {
    "id": "TjVKjIfclrTB"
   },
   "source": [
    "## 2. Write a program to count the number of each characters in a string"
   ]
  },
  {
   "cell_type": "code",
   "execution_count": 2,
   "metadata": {
    "id": "JY5seVUQlrTC"
   },
   "outputs": [
    {
     "name": "stdout",
     "output_type": "stream",
     "text": [
      "Kindly enter the string: ICTAK Data Science Course\n",
      "Number of characters in the string: 22\n"
     ]
    }
   ],
   "source": [
    "string = str(input('Kindly enter the string: '))\n",
    "count = 0;  \n",
    "#Counts every character except the space\n",
    "#If space is to be calculated, put '', instead of ' '.\n",
    "for i in range(0, len(string)):  \n",
    "    if(string[i] != ' '):  \n",
    "        count = count + 1;\n",
    "print(\"Number of characters in the string: \" + str(count));"
   ]
  },
  {
   "cell_type": "markdown",
   "metadata": {
    "id": "l3LCULfklrTD"
   },
   "source": [
    "## 3. Write a program to find the area and perimeter of a rectangle using functions"
   ]
  },
  {
   "cell_type": "code",
   "execution_count": 11,
   "metadata": {
    "id": "8haQD8edlrTD"
   },
   "outputs": [
    {
     "name": "stdout",
     "output_type": "stream",
     "text": [
      "Enter the width of a rectangle: 5\n",
      "Enter the height of a rectangle: 4\n",
      "Area of a rectangle is: 20.00\n",
      "Perimeter of rectangle is: 18.00\n"
     ]
    }
   ],
   "source": [
    "def AP_rec(width, height):\n",
    "    A = width * height\n",
    "    P = 2 * (width + height)\n",
    "    print(\"Area of a rectangle is: %.2f\" %A)\n",
    "    print(\"Perimeter of rectangle is: %.2f\" %P)\n",
    "width = float(input('Enter the width of a rectangle: '))\n",
    "height = float(input('Enter the height of a rectangle: '))\n",
    "AP_rec(width, height)"
   ]
  },
  {
   "cell_type": "markdown",
   "metadata": {
    "id": "JHK4ZdsflrTE"
   },
   "source": [
    "## 4. Write a program to print the fibonacci series till a specified number"
   ]
  },
  {
   "cell_type": "code",
   "execution_count": 13,
   "metadata": {
    "id": "LyBEj-4SlrTE"
   },
   "outputs": [
    {
     "name": "stdout",
     "output_type": "stream",
     "text": [
      "Enter the specified number:6\n",
      "0\n",
      "1\n",
      "1\n",
      "2\n",
      "3\n",
      "5\n"
     ]
    }
   ],
   "source": [
    "n = int(input('Enter the specified number:'))\n",
    "a, b = 0, 1\n",
    "count = 1\n",
    "while count <= n:\n",
    "    print(a)\n",
    "    a, b= b, a+b \n",
    "    count += 1"
   ]
  },
  {
   "cell_type": "markdown",
   "metadata": {
    "id": "u4uBUcQKlrTE"
   },
   "source": [
    "## 5. Complete the following code to find the minimum of 3 number using cinditional statements. Output should be as displayed"
   ]
  },
  {
   "cell_type": "code",
   "execution_count": 11,
   "metadata": {
    "id": "XdZwrZjIlrTF",
    "scrolled": true
   },
   "outputs": [
    {
     "name": "stdout",
     "output_type": "stream",
     "text": [
      "Enter three numbers followed by space between them: 1.2 0.2 1\n",
      "First number : 1.2\n",
      "Second number : 0.2\n",
      "Third number : 1\n",
      "0.2  is the smallest\n"
     ]
    }
   ],
   "source": [
    "a,b,c = input(\"Enter three numbers followed by space between them: \").split()\n",
    "\n",
    "print(\"First number :\",a)\n",
    "print(\"Second number :\",b)\n",
    "print(\"Third number :\",c)\n",
    "if a==b==c:\n",
    "    print(\"Entered numbers are equal!!!\")\n",
    "if a<b and a<c:\n",
    "\n",
    "    print(a,\" is the smallest\")\n",
    "if b<a and b<c:\n",
    "\n",
    "    print(b,\" is the smallest\")\n",
    "if c<a and c<b:\n",
    "\n",
    "\n",
    "    print(c, \" is the smallest\" )"
   ]
  },
  {
   "cell_type": "markdown",
   "metadata": {
    "id": "aR_CnToWlrTG"
   },
   "source": [
    "## 6. Write a program to print star pyramind. The number of rows should be taken as input from the user"
   ]
  },
  {
   "cell_type": "code",
   "execution_count": 13,
   "metadata": {
    "id": "M37A-buplrTG"
   },
   "outputs": [
    {
     "name": "stdout",
     "output_type": "stream",
     "text": [
      "Enter number turns you want to print Star pattern >>> 15\n",
      "              *\n",
      "             * *\n",
      "            * * *\n",
      "           * * * *\n",
      "          * * * * *\n",
      "         * * * * * *\n",
      "        * * * * * * *\n",
      "       * * * * * * * *\n",
      "      * * * * * * * * *\n",
      "     * * * * * * * * * *\n",
      "    * * * * * * * * * * *\n",
      "   * * * * * * * * * * * *\n",
      "  * * * * * * * * * * * * *\n",
      " * * * * * * * * * * * * * *\n",
      "* * * * * * * * * * * * * * *\n"
     ]
    }
   ],
   "source": [
    "\n",
    "n = int(input(\"Enter number turns you want to print Star pattern >>> \"))\n",
    "f = 1 \n",
    "i = 1\n",
    "k = 0\n",
    "while i <= 2 * n - 1:\n",
    "    if (i < n - k):\n",
    "        print(\" \", end = \"\")\n",
    "    else:\n",
    "        if (f):\n",
    "            print(\"*\", end = \"\")\n",
    "        else:\n",
    "            print(\" \", end = \"\")\n",
    "        f = 1 - f\n",
    "    if (i == n + k):\n",
    "        k += 1\n",
    "        print()\n",
    "        if (i == 2 * n - 1):\n",
    "            break\n",
    "        i = 0\n",
    "        f = 1\n",
    "    i += 1\n",
    "    "
   ]
  },
  {
   "cell_type": "markdown",
   "metadata": {
    "id": "tlY6aFWBlrTH"
   },
   "source": [
    "## 7. Complete the following code to convert hour into seconds. Output should be as displayed"
   ]
  },
  {
   "cell_type": "code",
   "execution_count": 4,
   "metadata": {
    "id": "YOZQFk7FlrTH"
   },
   "outputs": [
    {
     "name": "stdout",
     "output_type": "stream",
     "text": [
      "Enter the time in hours5\n",
      "5  Hour is equal to 18000  Seconds\n"
     ]
    }
   ],
   "source": [
    "def to_seconds(t):\n",
    "    t=int(t)*3600\n",
    "    return t\n",
    "time_in_hours = input(\"Enter the time in hours\")\n",
    "print(time_in_hours ,\" Hour is equal to\" ,to_seconds(time_in_hours) ,\" Seconds\")\n"
   ]
  },
  {
   "cell_type": "markdown",
   "metadata": {
    "id": "CnYorNiLlrTI"
   },
   "source": [
    "## 8. Write a program to print multiplication table as below"
   ]
  },
  {
   "cell_type": "code",
   "execution_count": 5,
   "metadata": {
    "id": "dPQqDPuDlrTI"
   },
   "outputs": [
    {
     "name": "stdout",
     "output_type": "stream",
     "text": [
      "Enter the number:5\n",
      "Multiplication table of 5\n",
      "5 x 1 = 5\n",
      "5 x 2 = 10\n",
      "5 x 3 = 15\n",
      "5 x 4 = 20\n",
      "5 x 5 = 25\n",
      "5 x 6 = 30\n",
      "5 x 7 = 35\n",
      "5 x 8 = 40\n",
      "5 x 9 = 45\n",
      "5 x 10 = 50\n"
     ]
    }
   ],
   "source": [
    "number=input('Enter the number:')\n",
    "print('Multiplication table of',number)\n",
    "for i in range(1,11):\n",
    "    print(number,'x',i,'=',int(number) * i)"
   ]
  },
  {
   "cell_type": "markdown",
   "metadata": {
    "id": "Fiaez8iblrTI"
   },
   "source": [
    "## 9. Write a program to take your 5 favorite food as list and print each as 'I like Biriyani'"
   ]
  },
  {
   "cell_type": "code",
   "execution_count": 20,
   "metadata": {
    "id": "39W1zFX7lrTJ"
   },
   "outputs": [
    {
     "name": "stdout",
     "output_type": "stream",
     "text": [
      "biriyani:  I like biriyani only\n"
     ]
    }
   ],
   "source": [
    "list1 = ['masal','biriyani','vada','rice','chapati']\n",
    "a=\"biriyani: \"\n",
    "if a in list1:\n",
    "    print(f'{a} I like biriyani')\n",
    "else:\n",
    "    print(f'{a} I like biriyani only')"
   ]
  },
  {
   "cell_type": "markdown",
   "metadata": {
    "id": "3vlcDNNEP7d_"
   },
   "source": [
    "## 10. Find error(s) in the following code(if any) and rewrite code.\n",
    "\n"
   ]
  },
  {
   "cell_type": "code",
   "execution_count": 18,
   "metadata": {
    "id": "coREkcY3P9sG"
   },
   "outputs": [
    {
     "name": "stdout",
     "output_type": "stream",
     "text": [
      "Enter value of x:5\n",
      "5  0 They are unequal\n",
      "5  1 They are unequal\n",
      "5  2 They are unequal\n",
      "5  3 They are unequal\n",
      "5  4 They are unequal\n",
      "They are equal (x and y)\n",
      "5  6 They are unequal\n",
      "5  7 They are unequal\n",
      "5  8 They are unequal\n",
      "5  9 They are unequal\n"
     ]
    }
   ],
   "source": [
    "x=int(input('Enter value of x:'))\n",
    "\n",
    "for y in range (0,10):\n",
    "     if x==y:\n",
    "          print(\"They are equal (x and y)\")\n",
    "     else:\n",
    "         print(x,\"\",y, \"They are unequal\")"
   ]
  },
  {
   "cell_type": "code",
   "execution_count": null,
   "metadata": {},
   "outputs": [],
   "source": []
  },
  {
   "cell_type": "code",
   "execution_count": null,
   "metadata": {},
   "outputs": [],
   "source": []
  }
 ],
 "metadata": {
  "colab": {
   "collapsed_sections": [],
   "name": "Q&A activity student file.ipynb",
   "provenance": []
  },
  "kernelspec": {
   "display_name": "Python 3",
   "language": "python",
   "name": "python3"
  },
  "language_info": {
   "codemirror_mode": {
    "name": "ipython",
    "version": 3
   },
   "file_extension": ".py",
   "mimetype": "text/x-python",
   "name": "python",
   "nbconvert_exporter": "python",
   "pygments_lexer": "ipython3",
   "version": "3.8.8"
  }
 },
 "nbformat": 4,
 "nbformat_minor": 1
}
